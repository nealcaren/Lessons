{
 "cells": [
  {
   "cell_type": "markdown",
   "metadata": {},
   "source": [
    "Python is a powerful programming language that is used in many different domains, from web development to data science.  A couple of things make Python relevant to social scientists. First, it quite useful when you want to gather and organize data from the internet, such as the text of newspaper articles or Twitter status updates. Second, a suite of tools exists for managing and analyzing textual data, from part-of-speech tagging to word embeddings. Finally, there are thousands of Python users out there, including beginners who have likely already asked whatever question you'll have next to and more experienced users who have already posted the answer to StackOverflow. \n",
    "\n",
    "Barebones Python, the version that is installed on your Mac when you purchase it, is useless by itself.  On top of this base, however, are dozens of extensions that have enabled the contemporary data science movement. Important ones to know include: [pandas](http://pandas.pydata.org) Data management and analysis; \n",
    " [scikit-learn](http://scikit-learn.org/stable/) for machine learning; and a [Jupyter notebook](http://jupyter.org) as a development environment. \n"
   ]
  },
  {
   "cell_type": "markdown",
   "metadata": {},
   "source": [
    "The easiest way to get start with Python is to download and install the [Anaconda](https://store.continuum.io/cshop/anaconda/) Python distribution. Python 3.7 is the current version and you should install that one. Some people still use the older Python 2, but it is approaching the end of it's life. The Anaconda Python distribution bundles together the 96% of the libraries you will want to use. \n"
   ]
  },
  {
   "cell_type": "markdown",
   "metadata": {},
   "source": [
    "The installation process will add the Anaconda-Navigator to your normal Applications folder. "
   ]
  },
  {
   "cell_type": "code",
   "execution_count": null,
   "metadata": {},
   "outputs": [],
   "source": []
  }
 ],
 "metadata": {
  "kernelspec": {
   "display_name": "Python 3",
   "language": "python",
   "name": "python3"
  },
  "language_info": {
   "codemirror_mode": {
    "name": "ipython",
    "version": 3
   },
   "file_extension": ".py",
   "mimetype": "text/x-python",
   "name": "python",
   "nbconvert_exporter": "python",
   "pygments_lexer": "ipython3",
   "version": "3.6.8"
  }
 },
 "nbformat": 4,
 "nbformat_minor": 2
}
