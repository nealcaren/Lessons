{
 "cells": [
  {
   "cell_type": "markdown",
   "metadata": {},
   "source": [
    "## Downloading newspaper articles  \n",
    "\n",
    "[**Neal Caren**](mailto:neal.caren@gmail.com)  \n",
    "University of North Carolina, Chapel Hill"
   ]
  },
  {
   "cell_type": "markdown",
   "metadata": {},
   "source": [
    "If you are interested in scrapping newspaper data, you might not need to build your own scraper. The [Newspaper](https://newspaper.readthedocs.io/en/latest/) library is a powerful tool for scraping the text and relevant meta data, such as author and title from newspaper articles and other online media sources. \n",
    "\n",
    "Newspaper works by looking for commonly occurring  tags, such as \"byline\" or \"author\", to identify the relevant components of a newspaper article, including title, author, publication date, and text. Even when it doesn't work completely, by for example, extracting everything but the author, it can greatly reduce the amount of time you spend inspecting the parsing the HTML by hand.  "
   ]
  },
  {
   "cell_type": "markdown",
   "metadata": {},
   "source": [
    "If this is your first time running this notebook, you may need to install Newspaper:\n",
    "\n",
    "```\n",
    "!pip install newspaper3k\n",
    "```"
   ]
  },
  {
   "cell_type": "markdown",
   "metadata": {},
   "source": [
    "Newspaper has the ability to scan the front page of a media source and identify all the articles on the page using the `build` method. A more common scenario for researchers is to have a list of articles URLs, created either from the paper's API or scrapped using the paper's search function. In this case, Newspaper's `Article` method is used to download, parse and extract the relevant information."
   ]
  },
  {
   "cell_type": "code",
   "execution_count": null,
   "metadata": {},
   "outputs": [],
   "source": [
    "from newspaper import Article"
   ]
  },
  {
   "attachments": {},
   "cell_type": "markdown",
   "metadata": {},
   "source": [
    "On February 25th, 2019, the Associated Press published, \"[Worker visas in doubt as Trump immigration crackdown widens\n",
    "](https://apnews.com/af878855969c4b48bc8b083b91c67018)\".\n",
    "\n",
    "![visas](images\\visas.png)"
   ]
  },
  {
   "cell_type": "markdown",
   "metadata": {},
   "source": [
    "I save the URL as a variable."
   ]
  },
  {
   "cell_type": "code",
   "execution_count": null,
   "metadata": {},
   "outputs": [],
   "source": [
    "url = \"https://apnews.com/af878855969c4b48bc8b083b91c67018\""
   ]
  },
  {
   "cell_type": "markdown",
   "metadata": {},
   "source": [
    "Article is a three step process. First, create an Article object, which I'll call article. The page then needs to be download and parsed."
   ]
  },
  {
   "cell_type": "code",
   "execution_count": null,
   "metadata": {},
   "outputs": [],
   "source": [
    "article = Article(url)\n",
    "article.download()\n",
    "article.parse()"
   ]
  },
  {
   "cell_type": "markdown",
   "metadata": {},
   "source": [
    "The article object stores the results of the parse as different properties of the object. The most relevant of these are title, authors, publish_date and text. I check these four to make sure that page was able to be parsed."
   ]
  },
  {
   "cell_type": "code",
   "execution_count": null,
   "metadata": {},
   "outputs": [],
   "source": [
    "article.title"
   ]
  },
  {
   "cell_type": "code",
   "execution_count": null,
   "metadata": {},
   "outputs": [],
   "source": [
    "article.authors"
   ]
  },
  {
   "cell_type": "markdown",
   "metadata": {},
   "source": [
    "Authors returns a list. In this case, it only has one item. "
   ]
  },
  {
   "cell_type": "code",
   "execution_count": null,
   "metadata": {},
   "outputs": [],
   "source": [
    "article.publish_date"
   ]
  },
  {
   "cell_type": "markdown",
   "metadata": {},
   "source": [
    "In this case, publish_date returns the publication date and time converted into a Python datetime object. "
   ]
  },
  {
   "cell_type": "code",
   "execution_count": null,
   "metadata": {},
   "outputs": [],
   "source": [
    "print(article.text)"
   ]
  },
  {
   "cell_type": "markdown",
   "metadata": {},
   "source": [
    "In this case, the full-text of the article has been returned. It also returned the image caption (at the top) and author contact information (at the bottom). These might need to be trimmed later on. "
   ]
  },
  {
   "cell_type": "markdown",
   "metadata": {},
   "source": [
    "Anytime I'm using Newspaper, I want to store data on many different newspaper articles. To automate this process, I created a function that takes a URL and returns a dictionary containing the extracted meta data along with the html code, in case I want to extract additional information later on by hand. It also good to always have the data you are collecting in the original format, rather than just the parsed information. Note that one limitation of Newspaper is that it does not work on HTML files you have downloaded elsewhere. "
   ]
  },
  {
   "cell_type": "code",
   "execution_count": null,
   "metadata": {},
   "outputs": [],
   "source": [
    "def get_article_info(url):\n",
    "    \"\"\"Download and parse a newspaper url.\"\"\"\n",
    "    article = Article(url)\n",
    "    article.download()\n",
    "    article.parse()\n",
    "\n",
    "    article_details = {\n",
    "        \"title\": article.title,\n",
    "        \"text\": article.text,\n",
    "        \"webUrl\": article.url,\n",
    "        \"authors\": article.authors,\n",
    "        \"html\": article.html,\n",
    "        \"date\": article.publish_date,\n",
    "        \"description\": article.meta_description,\n",
    "    }\n",
    "    return article_details"
   ]
  },
  {
   "cell_type": "markdown",
   "metadata": {},
   "source": [
    "I confirm that it works."
   ]
  },
  {
   "cell_type": "code",
   "execution_count": null,
   "metadata": {},
   "outputs": [],
   "source": [
    "a = get_article_info(url)\n",
    "print(a[\"title\"])"
   ]
  },
  {
   "cell_type": "markdown",
   "metadata": {},
   "source": [
    "One of the many uses of the pandas library is to convert and store different types of data. In this case, pandas can be used to convert the dictionary returned by `get_article_info` into a dataframe, which can be subsequntly stored as a JSON file."
   ]
  },
  {
   "cell_type": "code",
   "execution_count": null,
   "metadata": {},
   "outputs": [],
   "source": [
    "import pandas as pd"
   ]
  },
  {
   "cell_type": "code",
   "execution_count": null,
   "metadata": {},
   "outputs": [],
   "source": [
    "df = pd.DataFrame.from_records(a)"
   ]
  },
  {
   "cell_type": "code",
   "execution_count": null,
   "metadata": {},
   "outputs": [],
   "source": [
    "df.head()"
   ]
  },
  {
   "cell_type": "code",
   "execution_count": null,
   "metadata": {},
   "outputs": [],
   "source": [
    "df.to_json(\"ap_articles.json\", orient=\"records\")"
   ]
  },
  {
   "cell_type": "markdown",
   "metadata": {},
   "source": [
    "While this might seem like overkill for one article, it scales up quite nicely if you have a longer list of URLs."
   ]
  },
  {
   "cell_type": "code",
   "execution_count": null,
   "metadata": {},
   "outputs": [],
   "source": [
    "urls = [\n",
    "    \"https://apnews.com/43bcb090972f4cc48999e8cc32de38a3\",\n",
    "    \"https://apnews.com/1cc6b8d081154945addfd71fadb88561\",\n",
    "    \"https://apnews.com/7820c2fdb5b14ef9baef8b1e5cad3c0b\",\n",
    "]"
   ]
  },
  {
   "cell_type": "code",
   "execution_count": null,
   "metadata": {},
   "outputs": [],
   "source": [
    "article_data = []  # Blank list to store results\n",
    "\n",
    "# Loop over each URL\n",
    "for url in urls:\n",
    "    a = get_article_info(url)\n",
    "    article_data.append(a)\n",
    "\n",
    "# convert list of dictionaries to dataframe\n",
    "df = pd.DataFrame.from_records(article_data)"
   ]
  },
  {
   "cell_type": "code",
   "execution_count": null,
   "metadata": {},
   "outputs": [],
   "source": [
    "df.head()"
   ]
  },
  {
   "cell_type": "markdown",
   "metadata": {},
   "source": [
    "I have some suggests on best practices for [downloading a lot of files](https://github.com/nealcaren/Lessons/blob/master/Notebooks/Downloading.ipynb), which are relevant here, since you want to avoid downloading each article more than once. \n",
    "\n",
    "I have found that the most common issue with newspaper is that it missing the author information. A second issue is that it sometimes only retrieves part of the text with articles ending, \"Click here to continue.\" In either of those cases, I usually start by using Newspaper to download and parse all the information and supplement the columns it creates with additional ones based on parsing the article text store in the HTML column. "
   ]
  }
 ],
 "metadata": {
  "kernelspec": {
   "display_name": "Python 3",
   "language": "python",
   "name": "python3"
  },
  "language_info": {
   "codemirror_mode": {
    "name": "ipython",
    "version": 3
   },
   "file_extension": ".py",
   "mimetype": "text/x-python",
   "name": "python",
   "nbconvert_exporter": "python",
   "pygments_lexer": "ipython3",
   "version": "3.6.7"
  }
 },
 "nbformat": 4,
 "nbformat_minor": 2
}
